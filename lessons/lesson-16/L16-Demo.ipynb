{
 "cells": [
  {
   "cell_type": "code",
   "execution_count": null,
   "metadata": {},
   "outputs": [],
   "source": [
    "%matplotlib inline\n",
    "import matplotlib.pyplot as plt\n",
    "import cufflinks as cf\n",
    "\n",
    "# Go offline\n",
    "cf.go_offline()"
   ]
  },
  {
   "cell_type": "markdown",
   "metadata": {},
   "source": [
    "To explore time series models, we will continue with the Rossmann sales data. This dataset has sales data for sales at every Rossmann store for a 3-year period, as well indicators of holidays and basic store information.\n",
    "\n",
    "In the last class, we saw that we would plot the sales data at a particular store to identify how the sales changed over time. Additionally, we computed autocorrelation for the data at varying lag periods. This helps us identify if previous timepoints are predictive of future data and which time points are most important - the previous day? week? month?"
   ]
  },
  {
   "cell_type": "code",
   "execution_count": null,
   "metadata": {},
   "outputs": [],
   "source": [
    "import pandas as pd\n",
    "import numpy as np\n",
    "\n",
    "# Load the data and set the DateTime index\n",
    "data = pd.read_csv('../../lessons/lesson-15/assets/dataset/rossmann.csv', skipinitialspace=True)\n",
    "\n",
    "data['Date'] = pd.to_datetime(data['Date'])\n",
    "data.set_index('Date', inplace=True)\n",
    "\n",
    "# Filter to Store 1\n",
    "store1_data = data[data.Store == 1]\n",
    "\n",
    "# Filter to open days\n",
    "store1_open_data = store1_data[store1_data.Open==1]\n",
    "\n",
    "# Plot the sales over time\n",
    "store1_open_data[['Sales']].iplot()"
   ]
  },
  {
   "cell_type": "code",
   "execution_count": null,
   "metadata": {
    "scrolled": false
   },
   "outputs": [],
   "source": [
    "# Simple Moving Averages (SMA)\n",
    "store1_open_data[['Sales']].ta_plot(study='sma',periods=[13,21,55])\n",
    "# Bollinger Bands (BOLL)\n",
    "store1_open_data[['Sales']].ta_plot(study='boll',periods=14)\n",
    "# Moving Average Convergence Divergence (MACD)\n",
    "store1_open_data[['Sales']].ta_plot(study='macd',fast_period=12,slow_period=26, signal_period=9)"
   ]
  },
  {
   "cell_type": "markdown",
   "metadata": {},
   "source": [
    "### What is the 'Moving Average Convergence Divergence - MACD'\n",
    "Moving average convergence divergence (`MACD`) is a trend-following momentum indicator that shows the relationship between two moving averages of prices. The `MACD` is calculated by subtracting the 26-day exponential moving average (EMA) from the 12-day EMA. A nine-day EMA of the `MACD`, called the \"signal line\", is then plotted on top of the `MACD`, functioning as a trigger for buy and sell signals.\n",
    "\n",
    "Read more: Moving Average Convergence Divergence (MACD) http://www.investopedia.com/terms/m/macd.asp#ixzz4scoiCXeQ \n"
   ]
  },
  {
   "cell_type": "markdown",
   "metadata": {},
   "source": [
    "**Check** Compute the autocorrelation of Sales in Store 1 for lag 1 and 2. Will we be able to use a predictive model - particularly an autoregressive one?"
   ]
  },
  {
   "cell_type": "code",
   "execution_count": null,
   "metadata": {},
   "outputs": [],
   "source": [
    "store1_data.Sales.autocorr(lag=1) # -0.12"
   ]
  },
  {
   "cell_type": "code",
   "execution_count": null,
   "metadata": {},
   "outputs": [],
   "source": [
    "store1_data.Sales.autocorr(lag=7) "
   ]
  },
  {
   "cell_type": "markdown",
   "metadata": {},
   "source": [
    "Pandas and statsmodels both provide convenience plots for autocorrelations."
   ]
  },
  {
   "cell_type": "code",
   "execution_count": null,
   "metadata": {},
   "outputs": [],
   "source": [
    "from pandas.plotting import autocorrelation_plot\n",
    "\n",
    "autocorrelation_plot(store1_data.Sales)"
   ]
  },
  {
   "cell_type": "code",
   "execution_count": null,
   "metadata": {},
   "outputs": [],
   "source": [
    "from statsmodels.graphics.tsaplots import plot_acf\n",
    "\n",
    "plot_acf(store1_data.Sales, lags=30)\n",
    "plt.show()"
   ]
  },
  {
   "cell_type": "code",
   "execution_count": null,
   "metadata": {
    "collapsed": true
   },
   "outputs": [],
   "source": [
    "from pandas.compat import lmap\n",
    "def cf_auto_plot(series):\n",
    "    n = len(series)\n",
    "    data = np.asarray(series)\n",
    "    mean = np.mean(data)\n",
    "    c0 = np.sum((data - mean) ** 2) / float(n)\n",
    "\n",
    "    def r(h):\n",
    "        return ((data[:n - h] - mean) *\n",
    "                (data[h:] - mean)).sum() / float(n) / c0\n",
    "    x = np.arange(n) + 1\n",
    "    y = lmap(r, x)\n",
    "    df = pd.DataFrame(columns=['lag','autocorr'])\n",
    "    df['lag'] = x\n",
    "    df['autocorr'] = y\n",
    "    df.iplot(kind='bar', x='lag', y='autocorr', \n",
    "             yTitle='Autocorrelation', xTitle='Lag', title='Autocorrelation vs lag',\n",
    "             bargap=0.9, filename='cufflinks/categorical-bar-chart')\n",
    "    return df"
   ]
  },
  {
   "cell_type": "code",
   "execution_count": null,
   "metadata": {},
   "outputs": [],
   "source": [
    "a = cf_auto_plot(store1_data.Sales)"
   ]
  },
  {
   "cell_type": "code",
   "execution_count": null,
   "metadata": {
    "collapsed": true
   },
   "outputs": [],
   "source": [
    "def cf_lag_plot(series, lag=1):\n",
    "\n",
    "    data = series.values\n",
    "    y1 = data[:-lag]\n",
    "    y2 = data[lag:]\n",
    "    df = pd.DataFrame({\n",
    "      \"y1\":y1,\n",
    "      \"y2\": y2})\n",
    "    \n",
    "    df.iplot(kind='scatter', x='y1', y='y2', mode='markers', size=3,\n",
    "             yTitle=\"y(t + %s)\" % lag, xTitle='y(t)', title='y(t) vs y(t + %s)' % lag,\n",
    "             filename='cufflinks/scatter-chart')\n",
    "    return df"
   ]
  },
  {
   "cell_type": "code",
   "execution_count": null,
   "metadata": {
    "scrolled": false
   },
   "outputs": [],
   "source": [
    "a = cf_lag_plot(store1_data.Sales, lag=1)"
   ]
  },
  {
   "cell_type": "code",
   "execution_count": null,
   "metadata": {
    "collapsed": true
   },
   "outputs": [],
   "source": [
    "def cf_plot_acf(data, lags=30):\n",
    "    df = pd.DataFrame(columns=['lag','autocorr'])\n",
    "    for lag in range(lags+1):\n",
    "        df.loc[lag] = [lag, data.autocorr(lag=lag)]\n",
    "    df.iplot(kind='bar', x='lag', y='autocorr', \n",
    "             yTitle='Autocorrelation', xTitle='Lag', title='Autocorrelation vs lag',\n",
    "             bargap=0.9, filename='cufflinks/categorical-bar-chart')\n",
    "    return df"
   ]
  },
  {
   "cell_type": "code",
   "execution_count": null,
   "metadata": {},
   "outputs": [],
   "source": [
    "a = cf_plot_acf(store1_data.Sales, lags=30)"
   ]
  },
  {
   "cell_type": "markdown",
   "metadata": {},
   "source": [
    "**Check**: What caused the spike at 7?"
   ]
  },
  {
   "cell_type": "markdown",
   "metadata": {},
   "source": [
    "# ARMA Model"
   ]
  },
  {
   "cell_type": "markdown",
   "metadata": {},
   "source": [
    "Recall that `ARMA(p, q)` models are a sum of an `AR(p)` and a `MA(q)` model. So if we want just an `AR(p)` model we use and `ARMA(p, 0)` model. "
   ]
  },
  {
   "cell_type": "code",
   "execution_count": null,
   "metadata": {},
   "outputs": [],
   "source": [
    "from statsmodels.tsa.arima_model import ARMA\n",
    "\n",
    "store1_sales_data = store1_open_data[['Sales']].astype(float)\n",
    "model = ARMA(store1_sales_data, (1, 0)).fit()\n",
    "print model.summary()"
   ]
  },
  {
   "cell_type": "code",
   "execution_count": null,
   "metadata": {},
   "outputs": [],
   "source": [
    "model = ARMA(store1_sales_data, (2, 0)).fit()\n",
    "print model.summary()"
   ]
  },
  {
   "cell_type": "markdown",
   "metadata": {},
   "source": [
    "Just like with other types of regression, we can compute the model residuals.\n",
    "\n",
    "**Check**: What are residuals? In linear regression, what did we expect of residuals?"
   ]
  },
  {
   "cell_type": "code",
   "execution_count": null,
   "metadata": {},
   "outputs": [],
   "source": [
    "model.resid.iplot()"
   ]
  },
  {
   "cell_type": "code",
   "execution_count": null,
   "metadata": {},
   "outputs": [],
   "source": [
    "plot_acf(model.resid, lags=50)\n",
    "plt.show()"
   ]
  },
  {
   "cell_type": "markdown",
   "metadata": {},
   "source": [
    "Becuase of the errors, it doesn't look like an AR model is good enough -- the data isn't stationary. So let's expand to an `ARMA` model."
   ]
  },
  {
   "cell_type": "code",
   "execution_count": null,
   "metadata": {},
   "outputs": [],
   "source": [
    "model = ARMA(store1_sales_data, (1, 2)).fit()\n",
    "print model.summary()"
   ]
  },
  {
   "cell_type": "code",
   "execution_count": null,
   "metadata": {},
   "outputs": [],
   "source": [
    "from statsmodels.tsa.arima_model import ARIMA\n",
    "\n",
    "model = ARIMA(store1_sales_data, (2, 0, 2)).fit()\n",
    "print model.summary()"
   ]
  },
  {
   "cell_type": "code",
   "execution_count": null,
   "metadata": {},
   "outputs": [],
   "source": [
    "model = ARIMA(store1_sales_data, (2, 1, 2)).fit()\n",
    "print model.summary()"
   ]
  },
  {
   "cell_type": "code",
   "execution_count": null,
   "metadata": {},
   "outputs": [],
   "source": [
    "model = ARIMA(store1_sales_data, (2, 1, 0)).fit()\n",
    "print model.summary()"
   ]
  },
  {
   "cell_type": "code",
   "execution_count": null,
   "metadata": {},
   "outputs": [],
   "source": [
    "store1_sales_data.Sales.diff(1).autocorr(1) #-0.181"
   ]
  },
  {
   "cell_type": "code",
   "execution_count": null,
   "metadata": {},
   "outputs": [],
   "source": [
    "store1_sales_data.Sales.diff(1).iplot()"
   ]
  },
  {
   "cell_type": "code",
   "execution_count": null,
   "metadata": {},
   "outputs": [],
   "source": [
    "model.plot_predict(1, 50)"
   ]
  },
  {
   "cell_type": "code",
   "execution_count": null,
   "metadata": {},
   "outputs": [],
   "source": [
    "fig, ax = plt.subplots()\n",
    "ax = store1_sales_data['2014'].plot(ax=ax)\n",
    "\n",
    "fig = model.plot_predict(1, 200, ax=ax, plot_insample=False)"
   ]
  },
  {
   "cell_type": "code",
   "execution_count": null,
   "metadata": {},
   "outputs": [],
   "source": [
    "model = ARIMA(store1_sales_data, (2, 1, 2)).fit()\n",
    "model.summary()\n",
    "model.bse\n",
    "plot_acf(model.resid, lags=50)\n",
    "plt.show()"
   ]
  },
  {
   "cell_type": "code",
   "execution_count": null,
   "metadata": {
    "collapsed": true
   },
   "outputs": [],
   "source": []
  }
 ],
 "metadata": {
  "anaconda-cloud": {},
  "kernelspec": {
   "display_name": "Python [conda env:py27]",
   "language": "python",
   "name": "conda-env-py27-py"
  },
  "language_info": {
   "codemirror_mode": {
    "name": "ipython",
    "version": 2
   },
   "file_extension": ".py",
   "mimetype": "text/x-python",
   "name": "python",
   "nbconvert_exporter": "python",
   "pygments_lexer": "ipython2",
   "version": "2.7.13"
  }
 },
 "nbformat": 4,
 "nbformat_minor": 1
}
