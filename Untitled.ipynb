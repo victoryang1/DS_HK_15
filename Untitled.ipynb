{
 "cells": [
  {
   "cell_type": "code",
   "execution_count": null,
   "metadata": {},
   "outputs": [],
   "source": [
    "X = df.loc[df.onpromotion.notnull()].drop('onpromotion')\n",
    "y = df.loc[df.onpromotion.notnull(),'onpromotion']\n",
    "\n",
    "model.fix(X,y)\n",
    "\n",
    "df.loc[df.onpromotion.isnull(),'onpromotion'] = model.predict()"
   ]
  }
 ],
 "metadata": {
  "kernelspec": {
   "display_name": "Python 2",
   "language": "python",
   "name": "python2"
  },
  "language_info": {
   "codemirror_mode": {
    "name": "ipython",
    "version": 2
   },
   "file_extension": ".py",
   "mimetype": "text/x-python",
   "name": "python",
   "nbconvert_exporter": "python",
   "pygments_lexer": "ipython2",
   "version": "2.7.14"
  }
 },
 "nbformat": 4,
 "nbformat_minor": 2
}
